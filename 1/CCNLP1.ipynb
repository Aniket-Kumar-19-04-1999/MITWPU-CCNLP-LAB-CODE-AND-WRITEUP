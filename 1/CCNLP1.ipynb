{
 "cells": [
  {
   "cell_type": "code",
   "execution_count": 1,
   "metadata": {},
   "outputs": [],
   "source": [
    "#NAME:- ANIKET KUMAR\n",
    "#ROLL NO:- 13\n",
    "#BATCH:- PF45\n",
    "#ERP:- 1032171203\n"
   ]
  },
  {
   "cell_type": "code",
   "execution_count": 2,
   "metadata": {},
   "outputs": [],
   "source": [
    "#LAB ASSIGNMENT 1"
   ]
  },
  {
   "cell_type": "code",
   "execution_count": 3,
   "metadata": {},
   "outputs": [],
   "source": [
    "import nltk\n",
    "import io "
   ]
  },
  {
   "cell_type": "code",
   "execution_count": 4,
   "metadata": {},
   "outputs": [
    {
     "name": "stdout",
     "output_type": "stream",
     "text": [
      "Birsa Munda About this soundpronunciation was an Indian tribal freedom fighter, religious leader, and folk hero who belonged to the Munda tribe. \n",
      "He spearheaded a tribal religious millenarian movement that arose in the Bengal Presidency (now Jharkhand) in the late 19th century, during the British Raj, thereby \n",
      "making him an important figure in the history of the Indian independence movement.\n",
      "The revolt mainly concentrated in the Munda belt of Khunti, Tamar, Sarwada and Bandgaon.\n",
      "His portrait hangs in the Indian Parliament Museum;he is the only tribal leader to have been so honored.\n"
     ]
    }
   ],
   "source": [
    "#Program to read a paragraph from a text file. \n",
    "myfile = open(r\"C:\\Users\\Aniket\\Desktop\\CCNLP\\1\\test.txt\")\n",
    "txt = myfile.read()\n",
    "print(txt)"
   ]
  },
  {
   "cell_type": "code",
   "execution_count": 5,
   "metadata": {},
   "outputs": [],
   "source": [
    "from nltk.corpus import stopwords  \n",
    "from nltk.tokenize import word_tokenize"
   ]
  },
  {
   "cell_type": "code",
   "execution_count": 7,
   "metadata": {},
   "outputs": [
    {
     "name": "stdout",
     "output_type": "stream",
     "text": [
      "['i', 'me', 'my', 'myself', 'we', 'our', 'ours', 'ourselves', 'you', \"you're\", \"you've\", \"you'll\", \"you'd\", 'your', 'yours', 'yourself', 'yourselves', 'he', 'him', 'his', 'himself', 'she', \"she's\", 'her', 'hers', 'herself', 'it', \"it's\", 'its', 'itself', 'they', 'them', 'their', 'theirs', 'themselves', 'what', 'which', 'who', 'whom', 'this', 'that', \"that'll\", 'these', 'those', 'am', 'is', 'are', 'was', 'were', 'be', 'been', 'being', 'have', 'has', 'had', 'having', 'do', 'does', 'did', 'doing', 'a', 'an', 'the', 'and', 'but', 'if', 'or', 'because', 'as', 'until', 'while', 'of', 'at', 'by', 'for', 'with', 'about', 'against', 'between', 'into', 'through', 'during', 'before', 'after', 'above', 'below', 'to', 'from', 'up', 'down', 'in', 'out', 'on', 'off', 'over', 'under', 'again', 'further', 'then', 'once', 'here', 'there', 'when', 'where', 'why', 'how', 'all', 'any', 'both', 'each', 'few', 'more', 'most', 'other', 'some', 'such', 'no', 'nor', 'not', 'only', 'own', 'same', 'so', 'than', 'too', 'very', 's', 't', 'can', 'will', 'just', 'don', \"don't\", 'should', \"should've\", 'now', 'd', 'll', 'm', 'o', 're', 've', 'y', 'ain', 'aren', \"aren't\", 'couldn', \"couldn't\", 'didn', \"didn't\", 'doesn', \"doesn't\", 'hadn', \"hadn't\", 'hasn', \"hasn't\", 'haven', \"haven't\", 'isn', \"isn't\", 'ma', 'mightn', \"mightn't\", 'mustn', \"mustn't\", 'needn', \"needn't\", 'shan', \"shan't\", 'shouldn', \"shouldn't\", 'wasn', \"wasn't\", 'weren', \"weren't\", 'won', \"won't\", 'wouldn', \"wouldn't\"]\n"
     ]
    }
   ],
   "source": [
    "#Stop words\n",
    "print(stopwords.words('english'))"
   ]
  },
  {
   "cell_type": "code",
   "execution_count": 8,
   "metadata": {},
   "outputs": [
    {
     "name": "stdout",
     "output_type": "stream",
     "text": [
      "['Birsa', 'Munda', 'About', 'this', 'soundpronunciation', 'was', 'an', 'Indian', 'tribal', 'freedom', 'fighter', ',', 'religious', 'leader', ',', 'and', 'folk', 'hero', 'who', 'belonged', 'to', 'the', 'Munda', 'tribe', '.', 'He', 'spearheaded', 'a', 'tribal', 'religious', 'millenarian', 'movement', 'that', 'arose', 'in', 'the', 'Bengal', 'Presidency', '(', 'now', 'Jharkhand', ')', 'in', 'the', 'late', '19th', 'century', ',', 'during', 'the', 'British', 'Raj', ',', 'thereby', 'making', 'him', 'an', 'important', 'figure', 'in', 'the', 'history', 'of', 'the', 'Indian', 'independence', 'movement', '.', 'The', 'revolt', 'mainly', 'concentrated', 'in', 'the', 'Munda', 'belt', 'of', 'Khunti', ',', 'Tamar', ',', 'Sarwada', 'and', 'Bandgaon', '.', 'His', 'portrait', 'hangs', 'in', 'the', 'Indian', 'Parliament', 'Museum', ';', 'he', 'is', 'the', 'only', 'tribal', 'leader', 'to', 'have', 'been', 'so', 'honored', '.']\n",
      "['Birsa', 'Munda', 'About', 'soundpronunciation', 'Indian', 'tribal', 'freedom', 'fighter', ',', 'religious', 'leader', ',', 'folk', 'hero', 'belonged', 'Munda', 'tribe', '.', 'He', 'spearheaded', 'tribal', 'religious', 'millenarian', 'movement', 'arose', 'Bengal', 'Presidency', '(', 'Jharkhand', ')', 'late', '19th', 'century', ',', 'British', 'Raj', ',', 'thereby', 'making', 'important', 'figure', 'history', 'Indian', 'independence', 'movement', '.', 'The', 'revolt', 'mainly', 'concentrated', 'Munda', 'belt', 'Khunti', ',', 'Tamar', ',', 'Sarwada', 'Bandgaon', '.', 'His', 'portrait', 'hangs', 'Indian', 'Parliament', 'Museum', ';', 'tribal', 'leader', 'honored', '.']\n"
     ]
    }
   ],
   "source": [
    "#Print the paragraph after removing the stop words.\n",
    "stop_words = set(stopwords.words('english'))  \n",
    "  \n",
    "word_tokens = word_tokenize(txt)  \n",
    "  \n",
    "filtered_sentence = [w for w in word_tokens if not w in stop_words]  \n",
    "  \n",
    "filtered_sentence = []  \n",
    "  \n",
    "for w in word_tokens:  \n",
    "    if w not in stop_words:  \n",
    "        filtered_sentence.append(w)  \n",
    "  \n",
    "print(word_tokens)  \n",
    "print(filtered_sentence) "
   ]
  },
  {
   "cell_type": "code",
   "execution_count": 10,
   "metadata": {},
   "outputs": [],
   "source": [
    "from nltk.tokenize import word_tokenize, sent_tokenize "
   ]
  },
  {
   "cell_type": "code",
   "execution_count": 11,
   "metadata": {},
   "outputs": [
    {
     "name": "stdout",
     "output_type": "stream",
     "text": [
      "[('Birsa', 'NNP'), ('Munda', 'NNP'), ('About', 'IN'), ('soundpronunciation', 'NN'), ('Indian', 'JJ'), ('tribal', 'NN'), ('freedom', 'NN'), ('fighter', 'NN'), (',', ','), ('religious', 'JJ'), ('leader', 'NN'), (',', ','), ('folk', 'NN'), ('hero', 'NN'), ('belonged', 'VBD'), ('Munda', 'NNP'), ('tribe', 'NN'), ('.', '.')]\n",
      "[('He', 'PRP'), ('spearheaded', 'VBD'), ('tribal', 'RB'), ('religious', 'JJ'), ('millenarian', 'JJ'), ('movement', 'NN'), ('arose', 'VBD'), ('Bengal', 'NNP'), ('Presidency', 'NNP'), ('(', '('), ('Jharkhand', 'NNP'), (')', ')'), ('late', 'RB'), ('19th', 'JJ'), ('century', 'NN'), (',', ','), ('British', 'JJ'), ('Raj', 'NNP'), (',', ','), ('thereby', 'RB'), ('making', 'VBG'), ('important', 'JJ'), ('figure', 'NN'), ('history', 'NN'), ('Indian', 'JJ'), ('independence', 'NN'), ('movement', 'NN'), ('.', '.')]\n",
      "[('The', 'DT'), ('revolt', 'NN'), ('mainly', 'RB'), ('concentrated', 'VBD'), ('Munda', 'NNP'), ('belt', 'NN'), ('Khunti', 'NNP'), (',', ','), ('Tamar', 'NNP'), (',', ','), ('Sarwada', 'NNP'), ('Bandgaon', 'NNP'), ('.', '.')]\n",
      "[('His', 'PRP$'), ('portrait', 'NN'), ('hangs', 'NNS'), ('Indian', 'JJ'), ('Parliament', 'NNP'), ('Museum', 'NNP'), (';', ':'), ('tribal', 'JJ'), ('leader', 'NN'), ('honored', 'VBD'), ('.', '.')]\n"
     ]
    }
   ],
   "source": [
    "#Identify part of speech of each word in the paragraph.\n",
    "tokenized = sent_tokenize(txt) \n",
    "for i in tokenized: \n",
    "    wordsList = nltk.word_tokenize(i) \n",
    "    wordsList = [w for w in wordsList if not w in stop_words]    \n",
    "    tagged = nltk.pos_tag(wordsList) \n",
    "    print(tagged) "
   ]
  },
  {
   "cell_type": "code",
   "execution_count": 12,
   "metadata": {},
   "outputs": [],
   "source": [
    "from nltk.stem import PorterStemmer "
   ]
  },
  {
   "cell_type": "code",
   "execution_count": 13,
   "metadata": {},
   "outputs": [
    {
     "name": "stdout",
     "output_type": "stream",
     "text": [
      "Birsa  :  birsa\n",
      "Munda  :  munda\n",
      "About  :  about\n",
      "this  :  thi\n",
      "soundpronunciation  :  soundpronunci\n",
      "was  :  wa\n",
      "an  :  an\n",
      "Indian  :  indian\n",
      "tribal  :  tribal\n",
      "freedom  :  freedom\n",
      "fighter  :  fighter\n",
      ",  :  ,\n",
      "religious  :  religi\n",
      "leader  :  leader\n",
      ",  :  ,\n",
      "and  :  and\n",
      "folk  :  folk\n",
      "hero  :  hero\n",
      "who  :  who\n",
      "belonged  :  belong\n",
      "to  :  to\n",
      "the  :  the\n",
      "Munda  :  munda\n",
      "tribe  :  tribe\n",
      ".  :  .\n",
      "He  :  He\n",
      "spearheaded  :  spearhead\n",
      "a  :  a\n",
      "tribal  :  tribal\n",
      "religious  :  religi\n",
      "millenarian  :  millenarian\n",
      "movement  :  movement\n",
      "that  :  that\n",
      "arose  :  aros\n",
      "in  :  in\n",
      "the  :  the\n",
      "Bengal  :  bengal\n",
      "Presidency  :  presid\n",
      "(  :  (\n",
      "now  :  now\n",
      "Jharkhand  :  jharkhand\n",
      ")  :  )\n",
      "in  :  in\n",
      "the  :  the\n",
      "late  :  late\n",
      "19th  :  19th\n",
      "century  :  centuri\n",
      ",  :  ,\n",
      "during  :  dure\n",
      "the  :  the\n",
      "British  :  british\n",
      "Raj  :  raj\n",
      ",  :  ,\n",
      "thereby  :  therebi\n",
      "making  :  make\n",
      "him  :  him\n",
      "an  :  an\n",
      "important  :  import\n",
      "figure  :  figur\n",
      "in  :  in\n",
      "the  :  the\n",
      "history  :  histori\n",
      "of  :  of\n",
      "the  :  the\n",
      "Indian  :  indian\n",
      "independence  :  independ\n",
      "movement  :  movement\n",
      ".  :  .\n",
      "The  :  the\n",
      "revolt  :  revolt\n",
      "mainly  :  mainli\n",
      "concentrated  :  concentr\n",
      "in  :  in\n",
      "the  :  the\n",
      "Munda  :  munda\n",
      "belt  :  belt\n",
      "of  :  of\n",
      "Khunti  :  khunti\n",
      ",  :  ,\n",
      "Tamar  :  tamar\n",
      ",  :  ,\n",
      "Sarwada  :  sarwada\n",
      "and  :  and\n",
      "Bandgaon  :  bandgaon\n",
      ".  :  .\n",
      "His  :  hi\n",
      "portrait  :  portrait\n",
      "hangs  :  hang\n",
      "in  :  in\n",
      "the  :  the\n",
      "Indian  :  indian\n",
      "Parliament  :  parliament\n",
      "Museum  :  museum\n",
      ";  :  ;\n",
      "he  :  he\n",
      "is  :  is\n",
      "the  :  the\n",
      "only  :  onli\n",
      "tribal  :  tribal\n",
      "leader  :  leader\n",
      "to  :  to\n",
      "have  :  have\n",
      "been  :  been\n",
      "so  :  so\n",
      "honored  :  honor\n",
      ".  :  .\n"
     ]
    }
   ],
   "source": [
    "#Stemming\n",
    "ps = PorterStemmer() \n",
    "   \n",
    "words = word_tokenize(txt) \n",
    "   \n",
    "for w in words: \n",
    "    print(w, \" : \", ps.stem(w)) "
   ]
  },
  {
   "cell_type": "code",
   "execution_count": 14,
   "metadata": {},
   "outputs": [],
   "source": [
    "import nltk \n",
    "import re \n",
    "import numpy as np"
   ]
  },
  {
   "cell_type": "code",
   "execution_count": 15,
   "metadata": {},
   "outputs": [
    {
     "data": {
      "text/plain": [
       "['birsa munda about this soundpronunciation was an indian tribal freedom fighter religious leader and folk hero who belonged to the munda tribe ',\n",
       " 'he spearheaded a tribal religious millenarian movement that arose in the bengal presidency now jharkhand in the late 19th century during the british raj thereby making him an important figure in the history of the indian independence movement ',\n",
       " 'the revolt mainly concentrated in the munda belt of khunti tamar sarwada and bandgaon ',\n",
       " 'his portrait hangs in the indian parliament museum he is the only tribal leader to have been so honored ']"
      ]
     },
     "execution_count": 15,
     "metadata": {},
     "output_type": "execute_result"
    }
   ],
   "source": [
    "#bag of words and their frequency\n",
    "dataset = nltk.sent_tokenize(txt) \n",
    "for i in range(len(dataset)): \n",
    "    dataset[i] = dataset[i].lower() \n",
    "    dataset[i] = re.sub(r'\\W', ' ', dataset[i]) \n",
    "    dataset[i] = re.sub(r'\\s+', ' ', dataset[i])\n",
    "dataset"
   ]
  },
  {
   "cell_type": "code",
   "execution_count": 16,
   "metadata": {},
   "outputs": [
    {
     "data": {
      "text/plain": [
       "{'birsa': 1,\n",
       " 'munda': 3,\n",
       " 'about': 1,\n",
       " 'this': 1,\n",
       " 'soundpronunciation': 1,\n",
       " 'was': 1,\n",
       " 'an': 2,\n",
       " 'indian': 3,\n",
       " 'tribal': 3,\n",
       " 'freedom': 1,\n",
       " 'fighter': 1,\n",
       " 'religious': 2,\n",
       " 'leader': 2,\n",
       " 'and': 2,\n",
       " 'folk': 1,\n",
       " 'hero': 1,\n",
       " 'who': 1,\n",
       " 'belonged': 1,\n",
       " 'to': 2,\n",
       " 'the': 10,\n",
       " 'tribe': 1,\n",
       " 'he': 2,\n",
       " 'spearheaded': 1,\n",
       " 'a': 1,\n",
       " 'millenarian': 1,\n",
       " 'movement': 2,\n",
       " 'that': 1,\n",
       " 'arose': 1,\n",
       " 'in': 5,\n",
       " 'bengal': 1,\n",
       " 'presidency': 1,\n",
       " 'now': 1,\n",
       " 'jharkhand': 1,\n",
       " 'late': 1,\n",
       " '19th': 1,\n",
       " 'century': 1,\n",
       " 'during': 1,\n",
       " 'british': 1,\n",
       " 'raj': 1,\n",
       " 'thereby': 1,\n",
       " 'making': 1,\n",
       " 'him': 1,\n",
       " 'important': 1,\n",
       " 'figure': 1,\n",
       " 'history': 1,\n",
       " 'of': 2,\n",
       " 'independence': 1,\n",
       " 'revolt': 1,\n",
       " 'mainly': 1,\n",
       " 'concentrated': 1,\n",
       " 'belt': 1,\n",
       " 'khunti': 1,\n",
       " 'tamar': 1,\n",
       " 'sarwada': 1,\n",
       " 'bandgaon': 1,\n",
       " 'his': 1,\n",
       " 'portrait': 1,\n",
       " 'hangs': 1,\n",
       " 'parliament': 1,\n",
       " 'museum': 1,\n",
       " 'is': 1,\n",
       " 'only': 1,\n",
       " 'have': 1,\n",
       " 'been': 1,\n",
       " 'so': 1,\n",
       " 'honored': 1}"
      ]
     },
     "execution_count": 16,
     "metadata": {},
     "output_type": "execute_result"
    }
   ],
   "source": [
    "word2count = {} \n",
    "for data in dataset: \n",
    "    words = nltk.word_tokenize(data) \n",
    "    for word in words: \n",
    "        if word not in word2count.keys(): \n",
    "            word2count[word] = 1\n",
    "        else: \n",
    "            word2count[word] += 1\n",
    "            \n",
    "word2count"
   ]
  },
  {
   "cell_type": "code",
   "execution_count": 18,
   "metadata": {},
   "outputs": [
    {
     "data": {
      "text/plain": [
       "['the',\n",
       " 'in',\n",
       " 'munda',\n",
       " 'indian',\n",
       " 'tribal',\n",
       " 'an',\n",
       " 'religious',\n",
       " 'leader',\n",
       " 'and',\n",
       " 'to']"
      ]
     },
     "execution_count": 18,
     "metadata": {},
     "output_type": "execute_result"
    }
   ],
   "source": [
    "import heapq \n",
    "freq_words = heapq.nlargest(10, word2count, key=word2count.get)\n",
    "freq_words"
   ]
  },
  {
   "cell_type": "code",
   "execution_count": 19,
   "metadata": {},
   "outputs": [],
   "source": [
    "import re"
   ]
  },
  {
   "cell_type": "code",
   "execution_count": 22,
   "metadata": {},
   "outputs": [
    {
     "name": "stdout",
     "output_type": "stream",
     "text": [
      "The list of words is : ['Birsa', 'Munda', 'About', 'this', 'soundpronunciation', 'was', 'an', 'Indian', 'tribal', 'freedom', 'fighter', 'religious', 'leader', 'and', 'folk', 'hero', 'who', 'belonged', 'to', 'the', 'Munda', 'tribe', 'He', 'spearheaded', 'a', 'tribal', 'religious', 'millenarian', 'movement', 'that', 'arose', 'in', 'the', 'Bengal', 'Presidency', 'now', 'Jharkhand', 'in', 'the', 'late', '19th', 'century', 'during', 'the', 'British', 'Raj', 'thereby', 'making', 'him', 'an', 'important', 'figure', 'in', 'the', 'history', 'of', 'the', 'Indian', 'independence', 'movement', 'The', 'revolt', 'mainly', 'concentrated', 'in', 'the', 'Munda', 'belt', 'of', 'Khunti', 'Tamar', 'Sarwada', 'and', 'Bandgaon', 'His', 'portrait', 'hangs', 'in', 'the', 'Indian', 'Parliament', 'Museum', 'he', 'is', 'the', 'only', 'tribal', 'leader', 'to', 'have', 'been', 'so', 'honored']\n"
     ]
    }
   ],
   "source": [
    "#finding all meaningful words from given word\n",
    "res = re.findall(r'\\w+', txt)\n",
    "\n",
    "print (\"The list of words is : \" +  str(res))"
   ]
  },
  {
   "cell_type": "code",
   "execution_count": 23,
   "metadata": {},
   "outputs": [],
   "source": [
    "from nltk import ngrams"
   ]
  },
  {
   "cell_type": "code",
   "execution_count": 25,
   "metadata": {},
   "outputs": [
    {
     "name": "stdout",
     "output_type": "stream",
     "text": [
      "('Birsa', 'Munda', 'About')\n",
      "('Munda', 'About', 'this')\n",
      "('About', 'this', 'soundpronunciation')\n",
      "('this', 'soundpronunciation', 'was')\n",
      "('soundpronunciation', 'was', 'an')\n",
      "('was', 'an', 'Indian')\n",
      "('an', 'Indian', 'tribal')\n",
      "('Indian', 'tribal', 'freedom')\n",
      "('tribal', 'freedom', 'fighter,')\n",
      "('freedom', 'fighter,', 'religious')\n",
      "('fighter,', 'religious', 'leader,')\n",
      "('religious', 'leader,', 'and')\n",
      "('leader,', 'and', 'folk')\n",
      "('and', 'folk', 'hero')\n",
      "('folk', 'hero', 'who')\n",
      "('hero', 'who', 'belonged')\n",
      "('who', 'belonged', 'to')\n",
      "('belonged', 'to', 'the')\n",
      "('to', 'the', 'Munda')\n",
      "('the', 'Munda', 'tribe.')\n",
      "('Munda', 'tribe.', 'He')\n",
      "('tribe.', 'He', 'spearheaded')\n",
      "('He', 'spearheaded', 'a')\n",
      "('spearheaded', 'a', 'tribal')\n",
      "('a', 'tribal', 'religious')\n",
      "('tribal', 'religious', 'millenarian')\n",
      "('religious', 'millenarian', 'movement')\n",
      "('millenarian', 'movement', 'that')\n",
      "('movement', 'that', 'arose')\n",
      "('that', 'arose', 'in')\n",
      "('arose', 'in', 'the')\n",
      "('in', 'the', 'Bengal')\n",
      "('the', 'Bengal', 'Presidency')\n",
      "('Bengal', 'Presidency', '(now')\n",
      "('Presidency', '(now', 'Jharkhand)')\n",
      "('(now', 'Jharkhand)', 'in')\n",
      "('Jharkhand)', 'in', 'the')\n",
      "('in', 'the', 'late')\n",
      "('the', 'late', '19th')\n",
      "('late', '19th', 'century,')\n",
      "('19th', 'century,', 'during')\n",
      "('century,', 'during', 'the')\n",
      "('during', 'the', 'British')\n",
      "('the', 'British', 'Raj,')\n",
      "('British', 'Raj,', 'thereby')\n",
      "('Raj,', 'thereby', 'making')\n",
      "('thereby', 'making', 'him')\n",
      "('making', 'him', 'an')\n",
      "('him', 'an', 'important')\n",
      "('an', 'important', 'figure')\n",
      "('important', 'figure', 'in')\n",
      "('figure', 'in', 'the')\n",
      "('in', 'the', 'history')\n",
      "('the', 'history', 'of')\n",
      "('history', 'of', 'the')\n",
      "('of', 'the', 'Indian')\n",
      "('the', 'Indian', 'independence')\n",
      "('Indian', 'independence', 'movement.')\n",
      "('independence', 'movement.', 'The')\n",
      "('movement.', 'The', 'revolt')\n",
      "('The', 'revolt', 'mainly')\n",
      "('revolt', 'mainly', 'concentrated')\n",
      "('mainly', 'concentrated', 'in')\n",
      "('concentrated', 'in', 'the')\n",
      "('in', 'the', 'Munda')\n",
      "('the', 'Munda', 'belt')\n",
      "('Munda', 'belt', 'of')\n",
      "('belt', 'of', 'Khunti,')\n",
      "('of', 'Khunti,', 'Tamar,')\n",
      "('Khunti,', 'Tamar,', 'Sarwada')\n",
      "('Tamar,', 'Sarwada', 'and')\n",
      "('Sarwada', 'and', 'Bandgaon.')\n",
      "('and', 'Bandgaon.', 'His')\n",
      "('Bandgaon.', 'His', 'portrait')\n",
      "('His', 'portrait', 'hangs')\n",
      "('portrait', 'hangs', 'in')\n",
      "('hangs', 'in', 'the')\n",
      "('in', 'the', 'Indian')\n",
      "('the', 'Indian', 'Parliament')\n",
      "('Indian', 'Parliament', 'Museum;he')\n",
      "('Parliament', 'Museum;he', 'is')\n",
      "('Museum;he', 'is', 'the')\n",
      "('is', 'the', 'only')\n",
      "('the', 'only', 'tribal')\n",
      "('only', 'tribal', 'leader')\n",
      "('tribal', 'leader', 'to')\n",
      "('leader', 'to', 'have')\n",
      "('to', 'have', 'been')\n",
      "('have', 'been', 'so')\n",
      "('been', 'so', 'honored.')\n"
     ]
    }
   ],
   "source": [
    "#listing n-grams\n",
    "n = 3\n",
    "sixgrams = ngrams(txt.split(), n)\n",
    "\n",
    "for grams in sixgrams:\n",
    "  print(grams)"
   ]
  },
  {
   "cell_type": "code",
   "execution_count": null,
   "metadata": {},
   "outputs": [],
   "source": []
  }
 ],
 "metadata": {
  "kernelspec": {
   "display_name": "Python 3",
   "language": "python",
   "name": "python3"
  },
  "language_info": {
   "codemirror_mode": {
    "name": "ipython",
    "version": 3
   },
   "file_extension": ".py",
   "mimetype": "text/x-python",
   "name": "python",
   "nbconvert_exporter": "python",
   "pygments_lexer": "ipython3",
   "version": "3.7.4"
  }
 },
 "nbformat": 4,
 "nbformat_minor": 2
}
