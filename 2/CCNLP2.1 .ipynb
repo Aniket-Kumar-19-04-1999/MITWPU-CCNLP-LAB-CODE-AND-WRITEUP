{
 "cells": [
  {
   "cell_type": "code",
   "execution_count": 1,
   "metadata": {},
   "outputs": [],
   "source": [
    "#NAME:- ANIKET KUMAR\n",
    "#ROLL NO:- PF45\n",
    "#BATCH:- 1\n",
    "#ERP:- 1032171203"
   ]
  },
  {
   "cell_type": "code",
   "execution_count": 2,
   "metadata": {},
   "outputs": [],
   "source": [
    " #LAB ASSIGNMENT 2\n"
   ]
  },
  {
   "cell_type": "markdown",
   "metadata": {},
   "source": [
    "### Import Packages"
   ]
  },
  {
   "cell_type": "markdown",
   "metadata": {},
   "source": [
    "from gtts import gTTS\n",
    "import speech_recognition as s_r\n",
    "import operator\n",
    "import os"
   ]
  },
  {
   "cell_type": "code",
   "execution_count": 3,
   "metadata": {},
   "outputs": [],
   "source": [
    "import pyttsx3  \n",
    "from gtts import gTTS\n",
    "import speech_recognition as s_r\n",
    "import operator \n",
    "import os\n",
    "engine = pyttsx3.init()"
   ]
  },
  {
   "cell_type": "markdown",
   "metadata": {},
   "source": [
    "### Setup Microphone"
   ]
  },
  {
   "cell_type": "code",
   "execution_count": 4,
   "metadata": {},
   "outputs": [
    {
     "name": "stdout",
     "output_type": "stream",
     "text": [
      "['Microsoft Sound Mapper - Input', 'Microphone (Realtek High Defini', 'Microsoft Sound Mapper - Output', 'Speaker/HP (Realtek High Defini', 'Microphone (Realtek HD Audio Mic input)', 'Speakers (Realtek HD Audio output)', 'Stereo Mix (Realtek HD Audio Stereo input)', 'Mic in at front panel (black) (Mic in at front panel (black))', 'Headphones ()', 'Headset (@System32\\\\drivers\\\\bthhfenum.sys,#2;%1 Hands-Free AG Audio%0\\r\\n;(Leaf Sport))', 'Headset (@System32\\\\drivers\\\\bthhfenum.sys,#2;%1 Hands-Free AG Audio%0\\r\\n;(Leaf Sport))']\n"
     ]
    }
   ],
   "source": [
    "print(s_r.Microphone.list_microphone_names()) \n",
    "#Print all the microphones connected to your machine\n",
    "my_mic_device = s_r.Microphone(device_index=6)"
   ]
  },
  {
   "cell_type": "markdown",
   "metadata": {},
   "source": [
    "### Input from microphone"
   ]
  },
  {
   "cell_type": "code",
   "execution_count": 5,
   "metadata": {},
   "outputs": [
    {
     "name": "stdout",
     "output_type": "stream",
     "text": [
      "Say what you want to calculate, example: 3 plus 3\n",
      "3 + 3\n"
     ]
    }
   ],
   "source": [
    "my_mic_device = s_r.Microphone(device_index=1)\n",
    "r = s_r.Recognizer()\n",
    "#audio=\"test.wav\"//for music file input\n",
    "#\"with s_r.AudioFile(audio) as source\" for musicfile input in .wav format\n",
    "with my_mic_device as source:\n",
    "    print(\"Say what you want to calculate, example: 3 plus 3\")\n",
    "    r.adjust_for_ambient_noise(source)\n",
    "    #\"audio=r.record(source)\"\" in case of audio_file\n",
    "    audio = r.listen(source)\n",
    "my_string=r.recognize_google(audio)\n",
    "print(my_string)"
   ]
  },
  {
   "cell_type": "markdown",
   "metadata": {},
   "source": [
    "### Fuctions to perform operations"
   ]
  },
  {
   "cell_type": "code",
   "execution_count": 6,
   "metadata": {},
   "outputs": [],
   "source": [
    "def get_operator_func(op):\n",
    "    return {\n",
    "        '+' : operator.add,\n",
    "        '-' : operator.sub,\n",
    "        'x' : operator.mul,\n",
    "        'divided' :operator.__truediv__,\n",
    "        }[op]\n",
    "def equation(op1, oper, op2):\n",
    "    op1,op2 = int(op1), int(op2)\n",
    "    return get_operator_func(oper)(op1, op2)"
   ]
  },
  {
   "cell_type": "markdown",
   "metadata": {},
   "source": [
    "### Result in Speech"
   ]
  },
  {
   "cell_type": "code",
   "execution_count": 7,
   "metadata": {},
   "outputs": [
    {
     "name": "stdout",
     "output_type": "stream",
     "text": [
      "Please wait for the result\n"
     ]
    }
   ],
   "source": [
    "Text = str(equation(*(my_string.split())))\n",
    "\n",
    "print(\"Please wait for the result\")\n",
    "engine.say(Text)\n",
    "engine.runAndWait() \n",
    "engine.stop()"
   ]
  },
  {
   "cell_type": "code",
   "execution_count": null,
   "metadata": {},
   "outputs": [],
   "source": [
    "\n",
    " \n",
    " \n"
   ]
  },
  {
   "cell_type": "code",
   "execution_count": null,
   "metadata": {},
   "outputs": [],
   "source": []
  }
 ],
 "metadata": {
  "kernelspec": {
   "display_name": "Python 3",
   "language": "python",
   "name": "python3"
  },
  "language_info": {
   "codemirror_mode": {
    "name": "ipython",
    "version": 3
   },
   "file_extension": ".py",
   "mimetype": "text/x-python",
   "name": "python",
   "nbconvert_exporter": "python",
   "pygments_lexer": "ipython3",
   "version": "3.7.4"
  }
 },
 "nbformat": 4,
 "nbformat_minor": 2
}
