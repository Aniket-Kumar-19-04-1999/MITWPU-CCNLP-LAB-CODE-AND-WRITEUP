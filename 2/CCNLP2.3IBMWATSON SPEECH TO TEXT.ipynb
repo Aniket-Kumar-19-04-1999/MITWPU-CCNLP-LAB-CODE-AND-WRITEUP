{
 "cells": [
  {
   "cell_type": "code",
   "execution_count": null,
   "metadata": {},
   "outputs": [],
   "source": [
    "#NAME:- ANIKET KUMAR\n",
    "#ROLL NO:- PF45\n",
    "#BATCH:- 1\n",
    "#ERP:- 1032171203\n",
    "#LAB ASSIGNMENT 2"
   ]
  },
  {
   "cell_type": "code",
   "execution_count": 8,
   "metadata": {},
   "outputs": [],
   "source": [
    "import json \n",
    "from os.path import join, dirname \n",
    "from ibm_watson import SpeechToTextV1 \n",
    "from ibm_watson.websocket import RecognizeCallback, AudioSource \n",
    "from ibm_cloud_sdk_core.authenticators import IAMAuthenticator "
   ]
  },
  {
   "cell_type": "code",
   "execution_count": 9,
   "metadata": {},
   "outputs": [],
   "source": [
    "# Insert API Key in place of  'YOUR UNIQUE API KEY' \n",
    "authenticator = IAMAuthenticator('6vjDK9gfmhu10PDfhRxZpeZfpdaJ5LuivJCBydHGmEiD')  \n",
    "service = SpeechToTextV1(authenticator = authenticator) \n"
   ]
  },
  {
   "cell_type": "code",
   "execution_count": 10,
   "metadata": {},
   "outputs": [],
   "source": [
    "#Insert URL in place of 'API_URL'  \n",
    "service.set_service_url('https://api.us-east.speech-to-text.watson.cloud.ibm.com/instances/69602fc0-c7df-4253-bc7a-ec4313fd9be5') \n"
   ]
  },
  {
   "cell_type": "code",
   "execution_count": 11,
   "metadata": {},
   "outputs": [],
   "source": [
    "# Insert local mp3 file path in place of 'LOCAL FILE PATH'  \n",
    "with open(r'C:\\Users\\Aniket\\Desktop\\CCNLP\\2\\welcome1.mp3','rb') as audio_file: \n",
    "    dic = json.loads(json.dumps(service.recognize(audio=audio_file,content_type='audio/mp3',model='en-US_NarrowbandModel',continuous=True).get_result(),indent=2)) \n"
   ]
  },
  {
   "cell_type": "code",
   "execution_count": 12,
   "metadata": {},
   "outputs": [
    {
     "name": "stdout",
     "output_type": "stream",
     "text": [
      "my name is Ankit Kumar \n"
     ]
    }
   ],
   "source": [
    "# Stores the transcribed text \n",
    "str = \"\" \n",
    "  \n",
    "while bool(dic.get('results')): \n",
    "    str = dic.get('results').pop().get('alternatives').pop().get('transcript')+str[:] \n",
    "       \n",
    "print(str) "
   ]
  },
  {
   "cell_type": "code",
   "execution_count": 13,
   "metadata": {},
   "outputs": [
    {
     "name": "stdout",
     "output_type": "stream",
     "text": [
      "{\n",
      "  \"result_index\": 0,\n",
      "  \"results\": [\n",
      "    {\n",
      "      \"final\": true,\n",
      "      \"alternatives\": [\n",
      "        {\n",
      "          \"transcript\": \"my name is Amit Kumar \",\n",
      "          \"confidence\": 0.82\n",
      "        },\n",
      "        {\n",
      "          \"transcript\": \"my name is Ankit Kumar \"\n",
      "        },\n",
      "        {\n",
      "          \"transcript\": \"my name is aniket Kumar \"\n",
      "        }\n",
      "      ],\n",
      "      \"keywords_result\": {}\n",
      "    }\n",
      "  ]\n",
      "}\n"
     ]
    }
   ],
   "source": [
    "import json\n",
    "from os.path import join, dirname\n",
    "from ibm_watson import SpeechToTextV1\n",
    "from ibm_watson.websocket import RecognizeCallback, AudioSource\n",
    "from ibm_cloud_sdk_core.authenticators import IAMAuthenticator\n",
    "\n",
    "authenticator = IAMAuthenticator('6vjDK9gfmhu10PDfhRxZpeZfpdaJ5LuivJCBydHGmEiD')\n",
    "speech_to_text = SpeechToTextV1(\n",
    "    authenticator=authenticator\n",
    ")\n",
    "\n",
    "speech_to_text.set_service_url('https://api.us-east.speech-to-text.watson.cloud.ibm.com/instances/69602fc0-c7df-4253-bc7a-ec4313fd9be5')\n",
    "\n",
    "class MyRecognizeCallback(RecognizeCallback):\n",
    "    def __init__(self):\n",
    "        RecognizeCallback.__init__(self)\n",
    "\n",
    "    def on_data(self, data):\n",
    "        print(json.dumps(data, indent=2))\n",
    "\n",
    "    def on_error(self, error):\n",
    "        print('Error received: {}'.format(error))\n",
    "\n",
    "    def on_inactivity_timeout(self, error):\n",
    "        print('Inactivity timeout: {}'.format(error))\n",
    "\n",
    "myRecognizeCallback = MyRecognizeCallback()\n",
    "\n",
    "with open(r'C:\\Users\\Aniket\\Desktop\\CCNLP\\2\\welcome1.mp3','rb') as audio_file:\n",
    "    audio_source = AudioSource(audio_file)\n",
    "    speech_to_text.recognize_using_websocket(\n",
    "        audio=audio_source,\n",
    "        content_type='audio/mp3',\n",
    "        recognize_callback=myRecognizeCallback,\n",
    "        model='en-US_BroadbandModel',\n",
    "        keywords=['colorado', 'tornado', 'tornadoes'],\n",
    "        keywords_threshold=0.5,\n",
    "        max_alternatives=3)"
   ]
  },
  {
   "cell_type": "code",
   "execution_count": null,
   "metadata": {},
   "outputs": [],
   "source": []
  },
  {
   "cell_type": "code",
   "execution_count": null,
   "metadata": {},
   "outputs": [],
   "source": []
  }
 ],
 "metadata": {
  "kernelspec": {
   "display_name": "Python 3",
   "language": "python",
   "name": "python3"
  },
  "language_info": {
   "codemirror_mode": {
    "name": "ipython",
    "version": 3
   },
   "file_extension": ".py",
   "mimetype": "text/x-python",
   "name": "python",
   "nbconvert_exporter": "python",
   "pygments_lexer": "ipython3",
   "version": "3.7.4"
  }
 },
 "nbformat": 4,
 "nbformat_minor": 2
}
