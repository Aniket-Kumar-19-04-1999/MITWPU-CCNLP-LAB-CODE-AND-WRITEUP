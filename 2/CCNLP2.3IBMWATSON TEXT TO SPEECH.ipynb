{
 "cells": [
  {
   "cell_type": "code",
   "execution_count": 1,
   "metadata": {},
   "outputs": [],
   "source": [
    "#NAME:- ANIKET KUMAR\n",
    "#ROLL NO:- PF45\n",
    "#BATCH:- 1\n",
    "#ERP:- 1032171203\n",
    "#LAB ASSIGNMENT 2"
   ]
  },
  {
   "cell_type": "code",
   "execution_count": 2,
   "metadata": {},
   "outputs": [],
   "source": [
    "import json\n",
    "from ibm_watson import TextToSpeechV1\n",
    "from ibm_cloud_sdk_core.authenticators import IAMAuthenticator\n",
    "\n",
    "authenticator = IAMAuthenticator('Hsw6l-CulM0Q-xoXV5Spi41lOCV9pzSAK1o8A682JwnA')\n",
    "text_to_speech = TextToSpeechV1(\n",
    "    authenticator=authenticator\n",
    ")\n",
    "\n",
    "text_to_speech.set_service_url('https://api.eu-gb.text-to-speech.watson.cloud.ibm.com/instances/c3113365-9e9c-44b2-b388-5b0fe9db7836')\n",
    "\n",
    "with open(r\"C:\\Users\\Aniket\\Desktop\\CCNLP\\2\\welcome1.mp3\",\"wb\")as audiofile:\n",
    "    audiofile.write(\n",
    "    text_to_speech.synthesize(\"My Name is Aniket Kumar\",accept=\"audio/mp3\").get_result().content\n",
    "    )"
   ]
  },
  {
   "cell_type": "code",
   "execution_count": null,
   "metadata": {},
   "outputs": [],
   "source": []
  }
 ],
 "metadata": {
  "kernelspec": {
   "display_name": "Python 3",
   "language": "python",
   "name": "python3"
  },
  "language_info": {
   "codemirror_mode": {
    "name": "ipython",
    "version": 3
   },
   "file_extension": ".py",
   "mimetype": "text/x-python",
   "name": "python",
   "nbconvert_exporter": "python",
   "pygments_lexer": "ipython3",
   "version": "3.7.4"
  }
 },
 "nbformat": 4,
 "nbformat_minor": 2
}
